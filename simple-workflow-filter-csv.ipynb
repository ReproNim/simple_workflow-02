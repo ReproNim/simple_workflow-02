{
 "cells": [
  {
   "cell_type": "code",
   "execution_count": 1,
   "metadata": {},
   "outputs": [],
   "source": [
    "import pandas as pd\n",
    "import requests\n",
    "import os.path as osp\n",
    "import os\n",
    "import tempfile\n",
    "import numpy as np"
   ]
  },
  {
   "cell_type": "code",
   "execution_count": 2,
   "metadata": {
    "collapsed": true
   },
   "outputs": [],
   "source": [
    "#url = 'https://github.com/OpenNeuroLab/metasearch/blob/master/docs/data/phenotype.csv'\n",
    "url = 'https://raw.githubusercontent.com/OpenNeuroLab/metasearch/master/docs/data/phenotype.csv'\n",
    "mri = 'https://raw.githubusercontent.com/OpenNeuroLab/metasearch/master/docs/data/phenotype_mri.csv'\n"
   ]
  },
  {
   "cell_type": "code",
   "execution_count": 3,
   "metadata": {},
   "outputs": [
    {
     "name": "stdout",
     "output_type": "stream",
     "text": [
      "['project', 'site_id', 'participant_id', 'diagnosis', 'sex', 'age', 'handedness', 'full iq', 'performance iq', 'verbal iq']\n"
     ]
    }
   ],
   "source": [
    "df = pd.read_csv(url)\n",
    "print(list(df))\n",
    "# print(df[df['full iq']>0]['full iq'])"
   ]
  },
  {
   "cell_type": "code",
   "execution_count": 4,
   "metadata": {},
   "outputs": [],
   "source": [
    "# df.loc[(df['column_name'] == some_value) & df['other_column'].isin(some_values)]\n",
    "# get controls who have iq\n",
    "df_filtered = df.loc[(df['diagnosis']=='control') & (df['full iq']>0)]\n"
   ]
  },
  {
   "cell_type": "code",
   "execution_count": 12,
   "metadata": {},
   "outputs": [
    {
     "name": "stdout",
     "output_type": "stream",
     "text": [
      "935\n",
      "{'PITT', 'NYU', 'UCLA', 'CMU', 'Olin', 'Trinity', 'Leuven', 'Caltech', 'Peking', 'OHSU', 'KKI', 'Yale', 'UM', 'SDSU', 'MAX_MUN', 'Stanford', 'USM'}\n"
     ]
    },
    {
     "data": {
      "text/plain": [
       "47"
      ]
     },
     "execution_count": 12,
     "metadata": {},
     "output_type": "execute_result"
    }
   ],
   "source": [
    "site_id = np.array(list(df_filtered['site_id']))\n",
    "print(len(site_id))\n",
    "print(set(site_id))\n",
    "len(np.where(site_id =='UCLA')[0])"
   ]
  },
  {
   "cell_type": "code",
   "execution_count": 6,
   "metadata": {},
   "outputs": [
    {
     "name": "stdout",
     "output_type": "stream",
     "text": [
      "['PITT', 'NYU', 'UCLA', 'CMU', 'Olin', 'Trinity', 'Leuven', 'Caltech', 'Peking', 'OHSU', 'KKI', 'Yale', 'UM', 'SDSU', 'MAX_MUN', 'Stanford', 'USM']\n"
     ]
    }
   ],
   "source": [
    "#site_id = list(df_filtered['site_id'])\n",
    "#site_more_ten = [site for site in set(site_id) if site_id.index(site) > 10]\n",
    "#print(site_more_ten)\n",
    "min_nb_site = 10\n",
    "site_id = np.array(list(df_filtered['site_id']))\n",
    "site_more_ten = [site for site in set(site_id) \n",
    "                      if len(np.where(site_id == site)[0]) > min_nb_site]\n",
    "print(site_more_ten)"
   ]
  },
  {
   "cell_type": "code",
   "execution_count": 7,
   "metadata": {},
   "outputs": [],
   "source": [
    "# df.loc[df['other_column'].isin(some_values)]\n",
    "df_filtered = df_filtered.loc[(df_filtered['site_id'].isin(site_more_ten))]\n"
   ]
  },
  {
   "cell_type": "code",
   "execution_count": 8,
   "metadata": {},
   "outputs": [
    {
     "data": {
      "text/plain": [
       "Int64Index([26, 27, 28, 29, 30], dtype='int64')"
      ]
     },
     "execution_count": 8,
     "metadata": {},
     "output_type": "execute_result"
    }
   ],
   "source": [
    "participants = df_filtered['participant_id'].index\n",
    "participants[:5]"
   ]
  },
  {
   "cell_type": "code",
   "execution_count": 9,
   "metadata": {
    "collapsed": true
   },
   "outputs": [],
   "source": [
    "df = pd.read_csv(mri)"
   ]
  },
  {
   "cell_type": "code",
   "execution_count": 10,
   "metadata": {},
   "outputs": [
    {
     "name": "stdout",
     "output_type": "stream",
     "text": [
      "['project', 'session_id', 'participant_id', 'age', 'diagnosis', 'dsm_iv_tr', 'education', 'ethnicity', 'full_iq', 'handedness', 'marital_status', 'occupation', 'performance_iq', 'sex', 'site_id', 'species', 'verbal_iq', 'MRIs', 'session_count', 'MRI']\n",
      "(935, 4)\n"
     ]
    }
   ],
   "source": [
    "# surveys_df.loc[[0, 10], :]\n",
    "print(list(df))\n",
    "df_mri = df.loc[participants, ['MRIs','age','sex','site_id']]\n",
    "print(df_mri.shape)"
   ]
  },
  {
   "cell_type": "code",
   "execution_count": 11,
   "metadata": {},
   "outputs": [],
   "source": [
    "# save mri df \n",
    "local_file_name = osp.join(os.getcwd(), 'mri_csv.csv')\n",
    "\n",
    "df_mri.to_csv(local_file_name)"
   ]
  },
  {
   "cell_type": "code",
   "execution_count": null,
   "metadata": {
    "collapsed": true
   },
   "outputs": [],
   "source": []
  }
 ],
 "metadata": {
  "kernelspec": {
   "display_name": "Python 3",
   "language": "python",
   "name": "python3"
  },
  "language_info": {
   "codemirror_mode": {
    "name": "ipython",
    "version": 3
   },
   "file_extension": ".py",
   "mimetype": "text/x-python",
   "name": "python",
   "nbconvert_exporter": "python",
   "pygments_lexer": "ipython3",
   "version": "3.5.1+"
  },
  "toc": {
   "nav_menu": {},
   "number_sections": true,
   "sideBar": true,
   "skip_h1_title": false,
   "toc_cell": false,
   "toc_position": {},
   "toc_section_display": "block",
   "toc_window_display": false
  }
 },
 "nbformat": 4,
 "nbformat_minor": 2
}
